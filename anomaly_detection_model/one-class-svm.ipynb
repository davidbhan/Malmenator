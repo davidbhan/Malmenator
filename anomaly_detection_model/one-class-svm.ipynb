{
 "cells": [
  {
   "cell_type": "code",
   "execution_count": 2,
   "metadata": {},
   "outputs": [],
   "source": [
    "import pandas as pd\n",
    "import numpy as np\n",
    "from sklearn.model_selection import train_test_split\n",
    "from sklearn.svm import OneClassSVM\n",
    "from sklearn.metrics import confusion_matrix\n",
    "import matplotlib.pyplot as plt"
   ]
  },
  {
   "cell_type": "code",
   "execution_count": 3,
   "metadata": {},
   "outputs": [
    {
     "name": "stderr",
     "output_type": "stream",
     "text": [
      "/home/ubuntu/anaconda3/lib/python3.7/site-packages/IPython/core/interactiveshell.py:3058: DtypeWarning: Columns (8) have mixed types. Specify dtype option on import or set low_memory=False.\n",
      "  interactivity=interactivity, compiler=compiler, result=result)\n"
     ]
    }
   ],
   "source": [
    "df = pd.read_csv(\"/home/ubuntu/cidds/CIDDS-001/traffic/OpenStack/CIDDS-001-internal-week1.csv\")"
   ]
  },
  {
   "cell_type": "code",
   "execution_count": 4,
   "metadata": {},
   "outputs": [
    {
     "data": {
      "text/html": [
       "<div>\n",
       "<style scoped>\n",
       "    .dataframe tbody tr th:only-of-type {\n",
       "        vertical-align: middle;\n",
       "    }\n",
       "\n",
       "    .dataframe tbody tr th {\n",
       "        vertical-align: top;\n",
       "    }\n",
       "\n",
       "    .dataframe thead th {\n",
       "        text-align: right;\n",
       "    }\n",
       "</style>\n",
       "<table border=\"1\" class=\"dataframe\">\n",
       "  <thead>\n",
       "    <tr style=\"text-align: right;\">\n",
       "      <th></th>\n",
       "      <th>Date first seen</th>\n",
       "      <th>Duration</th>\n",
       "      <th>Proto</th>\n",
       "      <th>Src IP Addr</th>\n",
       "      <th>Src Pt</th>\n",
       "      <th>Dst IP Addr</th>\n",
       "      <th>Dst Pt</th>\n",
       "      <th>Packets</th>\n",
       "      <th>Bytes</th>\n",
       "      <th>Flows</th>\n",
       "      <th>Flags</th>\n",
       "      <th>Tos</th>\n",
       "      <th>class</th>\n",
       "      <th>attackType</th>\n",
       "      <th>attackID</th>\n",
       "      <th>attackDescription</th>\n",
       "    </tr>\n",
       "  </thead>\n",
       "  <tbody>\n",
       "    <tr>\n",
       "      <td>0</td>\n",
       "      <td>2017-03-15 00:01:16.632</td>\n",
       "      <td>0.000</td>\n",
       "      <td>TCP</td>\n",
       "      <td>192.168.100.5</td>\n",
       "      <td>445</td>\n",
       "      <td>192.168.220.16</td>\n",
       "      <td>58844.0</td>\n",
       "      <td>1</td>\n",
       "      <td>108</td>\n",
       "      <td>1</td>\n",
       "      <td>.AP...</td>\n",
       "      <td>0</td>\n",
       "      <td>normal</td>\n",
       "      <td>---</td>\n",
       "      <td>---</td>\n",
       "      <td>---</td>\n",
       "    </tr>\n",
       "    <tr>\n",
       "      <td>1</td>\n",
       "      <td>2017-03-15 00:01:16.552</td>\n",
       "      <td>0.000</td>\n",
       "      <td>TCP</td>\n",
       "      <td>192.168.100.5</td>\n",
       "      <td>445</td>\n",
       "      <td>192.168.220.15</td>\n",
       "      <td>48888.0</td>\n",
       "      <td>1</td>\n",
       "      <td>108</td>\n",
       "      <td>1</td>\n",
       "      <td>.AP...</td>\n",
       "      <td>0</td>\n",
       "      <td>normal</td>\n",
       "      <td>---</td>\n",
       "      <td>---</td>\n",
       "      <td>---</td>\n",
       "    </tr>\n",
       "    <tr>\n",
       "      <td>2</td>\n",
       "      <td>2017-03-15 00:01:16.551</td>\n",
       "      <td>0.004</td>\n",
       "      <td>TCP</td>\n",
       "      <td>192.168.220.15</td>\n",
       "      <td>48888</td>\n",
       "      <td>192.168.100.5</td>\n",
       "      <td>445.0</td>\n",
       "      <td>2</td>\n",
       "      <td>174</td>\n",
       "      <td>1</td>\n",
       "      <td>.AP...</td>\n",
       "      <td>0</td>\n",
       "      <td>normal</td>\n",
       "      <td>---</td>\n",
       "      <td>---</td>\n",
       "      <td>---</td>\n",
       "    </tr>\n",
       "    <tr>\n",
       "      <td>3</td>\n",
       "      <td>2017-03-15 00:01:16.631</td>\n",
       "      <td>0.004</td>\n",
       "      <td>TCP</td>\n",
       "      <td>192.168.220.16</td>\n",
       "      <td>58844</td>\n",
       "      <td>192.168.100.5</td>\n",
       "      <td>445.0</td>\n",
       "      <td>2</td>\n",
       "      <td>174</td>\n",
       "      <td>1</td>\n",
       "      <td>.AP...</td>\n",
       "      <td>0</td>\n",
       "      <td>normal</td>\n",
       "      <td>---</td>\n",
       "      <td>---</td>\n",
       "      <td>---</td>\n",
       "    </tr>\n",
       "    <tr>\n",
       "      <td>4</td>\n",
       "      <td>2017-03-15 00:01:16.552</td>\n",
       "      <td>0.000</td>\n",
       "      <td>TCP</td>\n",
       "      <td>192.168.100.5</td>\n",
       "      <td>445</td>\n",
       "      <td>192.168.220.15</td>\n",
       "      <td>48888.0</td>\n",
       "      <td>1</td>\n",
       "      <td>108</td>\n",
       "      <td>1</td>\n",
       "      <td>.AP...</td>\n",
       "      <td>0</td>\n",
       "      <td>normal</td>\n",
       "      <td>---</td>\n",
       "      <td>---</td>\n",
       "      <td>---</td>\n",
       "    </tr>\n",
       "  </tbody>\n",
       "</table>\n",
       "</div>"
      ],
      "text/plain": [
       "           Date first seen  Duration  Proto     Src IP Addr  Src Pt  \\\n",
       "0  2017-03-15 00:01:16.632     0.000  TCP     192.168.100.5     445   \n",
       "1  2017-03-15 00:01:16.552     0.000  TCP     192.168.100.5     445   \n",
       "2  2017-03-15 00:01:16.551     0.004  TCP    192.168.220.15   48888   \n",
       "3  2017-03-15 00:01:16.631     0.004  TCP    192.168.220.16   58844   \n",
       "4  2017-03-15 00:01:16.552     0.000  TCP     192.168.100.5     445   \n",
       "\n",
       "      Dst IP Addr   Dst Pt  Packets     Bytes  Flows   Flags  Tos   class  \\\n",
       "0  192.168.220.16  58844.0        1       108      1  .AP...    0  normal   \n",
       "1  192.168.220.15  48888.0        1       108      1  .AP...    0  normal   \n",
       "2   192.168.100.5    445.0        2       174      1  .AP...    0  normal   \n",
       "3   192.168.100.5    445.0        2       174      1  .AP...    0  normal   \n",
       "4  192.168.220.15  48888.0        1       108      1  .AP...    0  normal   \n",
       "\n",
       "  attackType attackID attackDescription  \n",
       "0        ---      ---               ---  \n",
       "1        ---      ---               ---  \n",
       "2        ---      ---               ---  \n",
       "3        ---      ---               ---  \n",
       "4        ---      ---               ---  "
      ]
     },
     "execution_count": 4,
     "metadata": {},
     "output_type": "execute_result"
    }
   ],
   "source": [
    "df.head()"
   ]
  },
  {
   "cell_type": "code",
   "execution_count": 5,
   "metadata": {},
   "outputs": [
    {
     "data": {
      "text/plain": [
       "normal      7010897\n",
       "attacker     746230\n",
       "victim       694393\n",
       "Name: class, dtype: int64"
      ]
     },
     "execution_count": 5,
     "metadata": {},
     "output_type": "execute_result"
    }
   ],
   "source": [
    "df['class'].value_counts()"
   ]
  },
  {
   "cell_type": "code",
   "execution_count": 6,
   "metadata": {},
   "outputs": [],
   "source": [
    "df['anomalous'] = np.where(df['class'] == 'normal', 0, 1)"
   ]
  },
  {
   "cell_type": "code",
   "execution_count": 7,
   "metadata": {},
   "outputs": [
    {
     "data": {
      "text/html": [
       "<div>\n",
       "<style scoped>\n",
       "    .dataframe tbody tr th:only-of-type {\n",
       "        vertical-align: middle;\n",
       "    }\n",
       "\n",
       "    .dataframe tbody tr th {\n",
       "        vertical-align: top;\n",
       "    }\n",
       "\n",
       "    .dataframe thead th {\n",
       "        text-align: right;\n",
       "    }\n",
       "</style>\n",
       "<table border=\"1\" class=\"dataframe\">\n",
       "  <thead>\n",
       "    <tr style=\"text-align: right;\">\n",
       "      <th></th>\n",
       "      <th>Date first seen</th>\n",
       "      <th>Duration</th>\n",
       "      <th>Proto</th>\n",
       "      <th>Src IP Addr</th>\n",
       "      <th>Src Pt</th>\n",
       "      <th>Dst IP Addr</th>\n",
       "      <th>Dst Pt</th>\n",
       "      <th>Packets</th>\n",
       "      <th>Bytes</th>\n",
       "      <th>Flows</th>\n",
       "      <th>Flags</th>\n",
       "      <th>Tos</th>\n",
       "      <th>class</th>\n",
       "      <th>attackType</th>\n",
       "      <th>attackID</th>\n",
       "      <th>attackDescription</th>\n",
       "      <th>anomalous</th>\n",
       "    </tr>\n",
       "  </thead>\n",
       "  <tbody>\n",
       "    <tr>\n",
       "      <td>0</td>\n",
       "      <td>2017-03-15 00:01:16.632</td>\n",
       "      <td>0.000</td>\n",
       "      <td>TCP</td>\n",
       "      <td>192.168.100.5</td>\n",
       "      <td>445</td>\n",
       "      <td>192.168.220.16</td>\n",
       "      <td>58844.0</td>\n",
       "      <td>1</td>\n",
       "      <td>108</td>\n",
       "      <td>1</td>\n",
       "      <td>.AP...</td>\n",
       "      <td>0</td>\n",
       "      <td>normal</td>\n",
       "      <td>---</td>\n",
       "      <td>---</td>\n",
       "      <td>---</td>\n",
       "      <td>0</td>\n",
       "    </tr>\n",
       "    <tr>\n",
       "      <td>1</td>\n",
       "      <td>2017-03-15 00:01:16.552</td>\n",
       "      <td>0.000</td>\n",
       "      <td>TCP</td>\n",
       "      <td>192.168.100.5</td>\n",
       "      <td>445</td>\n",
       "      <td>192.168.220.15</td>\n",
       "      <td>48888.0</td>\n",
       "      <td>1</td>\n",
       "      <td>108</td>\n",
       "      <td>1</td>\n",
       "      <td>.AP...</td>\n",
       "      <td>0</td>\n",
       "      <td>normal</td>\n",
       "      <td>---</td>\n",
       "      <td>---</td>\n",
       "      <td>---</td>\n",
       "      <td>0</td>\n",
       "    </tr>\n",
       "    <tr>\n",
       "      <td>2</td>\n",
       "      <td>2017-03-15 00:01:16.551</td>\n",
       "      <td>0.004</td>\n",
       "      <td>TCP</td>\n",
       "      <td>192.168.220.15</td>\n",
       "      <td>48888</td>\n",
       "      <td>192.168.100.5</td>\n",
       "      <td>445.0</td>\n",
       "      <td>2</td>\n",
       "      <td>174</td>\n",
       "      <td>1</td>\n",
       "      <td>.AP...</td>\n",
       "      <td>0</td>\n",
       "      <td>normal</td>\n",
       "      <td>---</td>\n",
       "      <td>---</td>\n",
       "      <td>---</td>\n",
       "      <td>0</td>\n",
       "    </tr>\n",
       "    <tr>\n",
       "      <td>3</td>\n",
       "      <td>2017-03-15 00:01:16.631</td>\n",
       "      <td>0.004</td>\n",
       "      <td>TCP</td>\n",
       "      <td>192.168.220.16</td>\n",
       "      <td>58844</td>\n",
       "      <td>192.168.100.5</td>\n",
       "      <td>445.0</td>\n",
       "      <td>2</td>\n",
       "      <td>174</td>\n",
       "      <td>1</td>\n",
       "      <td>.AP...</td>\n",
       "      <td>0</td>\n",
       "      <td>normal</td>\n",
       "      <td>---</td>\n",
       "      <td>---</td>\n",
       "      <td>---</td>\n",
       "      <td>0</td>\n",
       "    </tr>\n",
       "    <tr>\n",
       "      <td>4</td>\n",
       "      <td>2017-03-15 00:01:16.552</td>\n",
       "      <td>0.000</td>\n",
       "      <td>TCP</td>\n",
       "      <td>192.168.100.5</td>\n",
       "      <td>445</td>\n",
       "      <td>192.168.220.15</td>\n",
       "      <td>48888.0</td>\n",
       "      <td>1</td>\n",
       "      <td>108</td>\n",
       "      <td>1</td>\n",
       "      <td>.AP...</td>\n",
       "      <td>0</td>\n",
       "      <td>normal</td>\n",
       "      <td>---</td>\n",
       "      <td>---</td>\n",
       "      <td>---</td>\n",
       "      <td>0</td>\n",
       "    </tr>\n",
       "  </tbody>\n",
       "</table>\n",
       "</div>"
      ],
      "text/plain": [
       "           Date first seen  Duration  Proto     Src IP Addr  Src Pt  \\\n",
       "0  2017-03-15 00:01:16.632     0.000  TCP     192.168.100.5     445   \n",
       "1  2017-03-15 00:01:16.552     0.000  TCP     192.168.100.5     445   \n",
       "2  2017-03-15 00:01:16.551     0.004  TCP    192.168.220.15   48888   \n",
       "3  2017-03-15 00:01:16.631     0.004  TCP    192.168.220.16   58844   \n",
       "4  2017-03-15 00:01:16.552     0.000  TCP     192.168.100.5     445   \n",
       "\n",
       "      Dst IP Addr   Dst Pt  Packets     Bytes  Flows   Flags  Tos   class  \\\n",
       "0  192.168.220.16  58844.0        1       108      1  .AP...    0  normal   \n",
       "1  192.168.220.15  48888.0        1       108      1  .AP...    0  normal   \n",
       "2   192.168.100.5    445.0        2       174      1  .AP...    0  normal   \n",
       "3   192.168.100.5    445.0        2       174      1  .AP...    0  normal   \n",
       "4  192.168.220.15  48888.0        1       108      1  .AP...    0  normal   \n",
       "\n",
       "  attackType attackID attackDescription  anomalous  \n",
       "0        ---      ---               ---          0  \n",
       "1        ---      ---               ---          0  \n",
       "2        ---      ---               ---          0  \n",
       "3        ---      ---               ---          0  \n",
       "4        ---      ---               ---          0  "
      ]
     },
     "execution_count": 7,
     "metadata": {},
     "output_type": "execute_result"
    }
   ],
   "source": [
    "df.head()"
   ]
  },
  {
   "cell_type": "code",
   "execution_count": 8,
   "metadata": {},
   "outputs": [
    {
     "data": {
      "text/plain": [
       "0    7010897\n",
       "1    1440623\n",
       "Name: anomalous, dtype: int64"
      ]
     },
     "execution_count": 8,
     "metadata": {},
     "output_type": "execute_result"
    }
   ],
   "source": [
    "df['anomalous'].value_counts()"
   ]
  },
  {
   "cell_type": "code",
   "execution_count": 9,
   "metadata": {},
   "outputs": [
    {
     "data": {
      "text/plain": [
       "Date first seen       object\n",
       "Duration             float64\n",
       "Proto                 object\n",
       "Src IP Addr           object\n",
       "Src Pt                 int64\n",
       "Dst IP Addr           object\n",
       "Dst Pt               float64\n",
       "Packets                int64\n",
       "Bytes                 object\n",
       "Flows                  int64\n",
       "Flags                 object\n",
       "Tos                    int64\n",
       "class                 object\n",
       "attackType            object\n",
       "attackID              object\n",
       "attackDescription     object\n",
       "anomalous              int64\n",
       "dtype: object"
      ]
     },
     "execution_count": 9,
     "metadata": {},
     "output_type": "execute_result"
    }
   ],
   "source": [
    "df.dtypes"
   ]
  },
  {
   "cell_type": "code",
   "execution_count": 10,
   "metadata": {},
   "outputs": [],
   "source": [
    "X = df.iloc[0:100000,[1,4,6,7,9,11,16]]\n",
    "#y = df['anomalous']\n",
    "#X_train, X_test, y_train, y_test = train_test_split(df, y, test_size=0.2)"
   ]
  },
  {
   "cell_type": "code",
   "execution_count": 11,
   "metadata": {},
   "outputs": [
    {
     "data": {
      "text/html": [
       "<div>\n",
       "<style scoped>\n",
       "    .dataframe tbody tr th:only-of-type {\n",
       "        vertical-align: middle;\n",
       "    }\n",
       "\n",
       "    .dataframe tbody tr th {\n",
       "        vertical-align: top;\n",
       "    }\n",
       "\n",
       "    .dataframe thead th {\n",
       "        text-align: right;\n",
       "    }\n",
       "</style>\n",
       "<table border=\"1\" class=\"dataframe\">\n",
       "  <thead>\n",
       "    <tr style=\"text-align: right;\">\n",
       "      <th></th>\n",
       "      <th>Duration</th>\n",
       "      <th>Src Pt</th>\n",
       "      <th>Dst Pt</th>\n",
       "      <th>Packets</th>\n",
       "      <th>Flows</th>\n",
       "      <th>Tos</th>\n",
       "      <th>anomalous</th>\n",
       "    </tr>\n",
       "  </thead>\n",
       "  <tbody>\n",
       "    <tr>\n",
       "      <td>0</td>\n",
       "      <td>0.000</td>\n",
       "      <td>445</td>\n",
       "      <td>58844.0</td>\n",
       "      <td>1</td>\n",
       "      <td>1</td>\n",
       "      <td>0</td>\n",
       "      <td>0</td>\n",
       "    </tr>\n",
       "    <tr>\n",
       "      <td>1</td>\n",
       "      <td>0.000</td>\n",
       "      <td>445</td>\n",
       "      <td>48888.0</td>\n",
       "      <td>1</td>\n",
       "      <td>1</td>\n",
       "      <td>0</td>\n",
       "      <td>0</td>\n",
       "    </tr>\n",
       "    <tr>\n",
       "      <td>2</td>\n",
       "      <td>0.004</td>\n",
       "      <td>48888</td>\n",
       "      <td>445.0</td>\n",
       "      <td>2</td>\n",
       "      <td>1</td>\n",
       "      <td>0</td>\n",
       "      <td>0</td>\n",
       "    </tr>\n",
       "    <tr>\n",
       "      <td>3</td>\n",
       "      <td>0.004</td>\n",
       "      <td>58844</td>\n",
       "      <td>445.0</td>\n",
       "      <td>2</td>\n",
       "      <td>1</td>\n",
       "      <td>0</td>\n",
       "      <td>0</td>\n",
       "    </tr>\n",
       "    <tr>\n",
       "      <td>4</td>\n",
       "      <td>0.000</td>\n",
       "      <td>445</td>\n",
       "      <td>48888.0</td>\n",
       "      <td>1</td>\n",
       "      <td>1</td>\n",
       "      <td>0</td>\n",
       "      <td>0</td>\n",
       "    </tr>\n",
       "    <tr>\n",
       "      <td>...</td>\n",
       "      <td>...</td>\n",
       "      <td>...</td>\n",
       "      <td>...</td>\n",
       "      <td>...</td>\n",
       "      <td>...</td>\n",
       "      <td>...</td>\n",
       "      <td>...</td>\n",
       "    </tr>\n",
       "    <tr>\n",
       "      <td>99995</td>\n",
       "      <td>0.000</td>\n",
       "      <td>34316</td>\n",
       "      <td>80.0</td>\n",
       "      <td>1</td>\n",
       "      <td>1</td>\n",
       "      <td>0</td>\n",
       "      <td>0</td>\n",
       "    </tr>\n",
       "    <tr>\n",
       "      <td>99996</td>\n",
       "      <td>0.000</td>\n",
       "      <td>34843</td>\n",
       "      <td>80.0</td>\n",
       "      <td>1</td>\n",
       "      <td>1</td>\n",
       "      <td>0</td>\n",
       "      <td>0</td>\n",
       "    </tr>\n",
       "    <tr>\n",
       "      <td>99997</td>\n",
       "      <td>0.000</td>\n",
       "      <td>34844</td>\n",
       "      <td>80.0</td>\n",
       "      <td>1</td>\n",
       "      <td>1</td>\n",
       "      <td>0</td>\n",
       "      <td>0</td>\n",
       "    </tr>\n",
       "    <tr>\n",
       "      <td>99998</td>\n",
       "      <td>0.000</td>\n",
       "      <td>60331</td>\n",
       "      <td>80.0</td>\n",
       "      <td>1</td>\n",
       "      <td>1</td>\n",
       "      <td>0</td>\n",
       "      <td>0</td>\n",
       "    </tr>\n",
       "    <tr>\n",
       "      <td>99999</td>\n",
       "      <td>0.000</td>\n",
       "      <td>57309</td>\n",
       "      <td>80.0</td>\n",
       "      <td>1</td>\n",
       "      <td>1</td>\n",
       "      <td>0</td>\n",
       "      <td>0</td>\n",
       "    </tr>\n",
       "  </tbody>\n",
       "</table>\n",
       "<p>100000 rows × 7 columns</p>\n",
       "</div>"
      ],
      "text/plain": [
       "       Duration  Src Pt   Dst Pt  Packets  Flows  Tos  anomalous\n",
       "0         0.000     445  58844.0        1      1    0          0\n",
       "1         0.000     445  48888.0        1      1    0          0\n",
       "2         0.004   48888    445.0        2      1    0          0\n",
       "3         0.004   58844    445.0        2      1    0          0\n",
       "4         0.000     445  48888.0        1      1    0          0\n",
       "...         ...     ...      ...      ...    ...  ...        ...\n",
       "99995     0.000   34316     80.0        1      1    0          0\n",
       "99996     0.000   34843     80.0        1      1    0          0\n",
       "99997     0.000   34844     80.0        1      1    0          0\n",
       "99998     0.000   60331     80.0        1      1    0          0\n",
       "99999     0.000   57309     80.0        1      1    0          0\n",
       "\n",
       "[100000 rows x 7 columns]"
      ]
     },
     "execution_count": 11,
     "metadata": {},
     "output_type": "execute_result"
    }
   ],
   "source": [
    "X"
   ]
  },
  {
   "cell_type": "code",
   "execution_count": 12,
   "metadata": {},
   "outputs": [
    {
     "data": {
      "text/plain": [
       "0    94289\n",
       "1     5711\n",
       "Name: anomalous, dtype: int64"
      ]
     },
     "execution_count": 12,
     "metadata": {},
     "output_type": "execute_result"
    }
   ],
   "source": [
    "X['anomalous'].value_counts()"
   ]
  },
  {
   "cell_type": "code",
   "execution_count": 13,
   "metadata": {},
   "outputs": [],
   "source": [
    "train, test = train_test_split(X, test_size=.2) \n",
    "train_normal = train[train['anomalous']==0] \n",
    "train_outliers = train[train['anomalous']==1] \n",
    "outlier_prop = len(train_outliers) / len(train_normal) \n",
    "svm = OneClassSVM(kernel='rbf', nu=outlier_prop, gamma=0.000001) \n"
   ]
  },
  {
   "cell_type": "code",
   "execution_count": 14,
   "metadata": {},
   "outputs": [
    {
     "data": {
      "text/plain": [
       "OneClassSVM(cache_size=200, coef0=0.0, degree=3, gamma=1e-06, kernel='rbf',\n",
       "            max_iter=-1, nu=0.060150276301665764, random_state=None,\n",
       "            shrinking=True, tol=0.001, verbose=False)"
      ]
     },
     "execution_count": 14,
     "metadata": {},
     "output_type": "execute_result"
    }
   ],
   "source": [
    "svm.fit(train_normal)"
   ]
  },
  {
   "cell_type": "code",
   "execution_count": 15,
   "metadata": {},
   "outputs": [
    {
     "data": {
      "text/html": [
       "<div>\n",
       "<style scoped>\n",
       "    .dataframe tbody tr th:only-of-type {\n",
       "        vertical-align: middle;\n",
       "    }\n",
       "\n",
       "    .dataframe tbody tr th {\n",
       "        vertical-align: top;\n",
       "    }\n",
       "\n",
       "    .dataframe thead th {\n",
       "        text-align: right;\n",
       "    }\n",
       "</style>\n",
       "<table border=\"1\" class=\"dataframe\">\n",
       "  <thead>\n",
       "    <tr style=\"text-align: right;\">\n",
       "      <th></th>\n",
       "      <th>Duration</th>\n",
       "      <th>Src Pt</th>\n",
       "      <th>Dst Pt</th>\n",
       "      <th>Packets</th>\n",
       "      <th>Flows</th>\n",
       "      <th>Tos</th>\n",
       "      <th>anomalous</th>\n",
       "    </tr>\n",
       "  </thead>\n",
       "  <tbody>\n",
       "    <tr>\n",
       "      <td>10042</td>\n",
       "      <td>0.085</td>\n",
       "      <td>443</td>\n",
       "      <td>48605.0</td>\n",
       "      <td>4</td>\n",
       "      <td>1</td>\n",
       "      <td>0</td>\n",
       "      <td>0</td>\n",
       "    </tr>\n",
       "    <tr>\n",
       "      <td>20106</td>\n",
       "      <td>0.127</td>\n",
       "      <td>57180</td>\n",
       "      <td>443.0</td>\n",
       "      <td>9</td>\n",
       "      <td>1</td>\n",
       "      <td>0</td>\n",
       "      <td>0</td>\n",
       "    </tr>\n",
       "    <tr>\n",
       "      <td>73910</td>\n",
       "      <td>0.000</td>\n",
       "      <td>445</td>\n",
       "      <td>43145.0</td>\n",
       "      <td>1</td>\n",
       "      <td>1</td>\n",
       "      <td>0</td>\n",
       "      <td>0</td>\n",
       "    </tr>\n",
       "    <tr>\n",
       "      <td>9247</td>\n",
       "      <td>0.000</td>\n",
       "      <td>52463</td>\n",
       "      <td>80.0</td>\n",
       "      <td>1</td>\n",
       "      <td>1</td>\n",
       "      <td>0</td>\n",
       "      <td>0</td>\n",
       "    </tr>\n",
       "    <tr>\n",
       "      <td>21852</td>\n",
       "      <td>0.000</td>\n",
       "      <td>51358</td>\n",
       "      <td>4444.0</td>\n",
       "      <td>1</td>\n",
       "      <td>1</td>\n",
       "      <td>0</td>\n",
       "      <td>1</td>\n",
       "    </tr>\n",
       "    <tr>\n",
       "      <td>...</td>\n",
       "      <td>...</td>\n",
       "      <td>...</td>\n",
       "      <td>...</td>\n",
       "      <td>...</td>\n",
       "      <td>...</td>\n",
       "      <td>...</td>\n",
       "      <td>...</td>\n",
       "    </tr>\n",
       "    <tr>\n",
       "      <td>38660</td>\n",
       "      <td>0.000</td>\n",
       "      <td>443</td>\n",
       "      <td>34457.0</td>\n",
       "      <td>1</td>\n",
       "      <td>1</td>\n",
       "      <td>0</td>\n",
       "      <td>0</td>\n",
       "    </tr>\n",
       "    <tr>\n",
       "      <td>6211</td>\n",
       "      <td>0.000</td>\n",
       "      <td>8082</td>\n",
       "      <td>50807.0</td>\n",
       "      <td>1</td>\n",
       "      <td>1</td>\n",
       "      <td>32</td>\n",
       "      <td>0</td>\n",
       "    </tr>\n",
       "    <tr>\n",
       "      <td>70816</td>\n",
       "      <td>0.000</td>\n",
       "      <td>80</td>\n",
       "      <td>47433.0</td>\n",
       "      <td>1</td>\n",
       "      <td>1</td>\n",
       "      <td>32</td>\n",
       "      <td>0</td>\n",
       "    </tr>\n",
       "    <tr>\n",
       "      <td>98761</td>\n",
       "      <td>0.000</td>\n",
       "      <td>53</td>\n",
       "      <td>32802.0</td>\n",
       "      <td>1</td>\n",
       "      <td>1</td>\n",
       "      <td>0</td>\n",
       "      <td>0</td>\n",
       "    </tr>\n",
       "    <tr>\n",
       "      <td>52678</td>\n",
       "      <td>0.000</td>\n",
       "      <td>443</td>\n",
       "      <td>38966.0</td>\n",
       "      <td>1</td>\n",
       "      <td>1</td>\n",
       "      <td>0</td>\n",
       "      <td>0</td>\n",
       "    </tr>\n",
       "  </tbody>\n",
       "</table>\n",
       "<p>20000 rows × 7 columns</p>\n",
       "</div>"
      ],
      "text/plain": [
       "       Duration  Src Pt   Dst Pt  Packets  Flows  Tos  anomalous\n",
       "10042     0.085     443  48605.0        4      1    0          0\n",
       "20106     0.127   57180    443.0        9      1    0          0\n",
       "73910     0.000     445  43145.0        1      1    0          0\n",
       "9247      0.000   52463     80.0        1      1    0          0\n",
       "21852     0.000   51358   4444.0        1      1    0          1\n",
       "...         ...     ...      ...      ...    ...  ...        ...\n",
       "38660     0.000     443  34457.0        1      1    0          0\n",
       "6211      0.000    8082  50807.0        1      1   32          0\n",
       "70816     0.000      80  47433.0        1      1   32          0\n",
       "98761     0.000      53  32802.0        1      1    0          0\n",
       "52678     0.000     443  38966.0        1      1    0          0\n",
       "\n",
       "[20000 rows x 7 columns]"
      ]
     },
     "execution_count": 15,
     "metadata": {},
     "output_type": "execute_result"
    }
   ],
   "source": [
    "test"
   ]
  },
  {
   "cell_type": "code",
   "execution_count": 16,
   "metadata": {},
   "outputs": [],
   "source": [
    "y_pred = svm.predict(test) "
   ]
  },
  {
   "cell_type": "code",
   "execution_count": 17,
   "metadata": {},
   "outputs": [
    {
     "data": {
      "text/plain": [
       "array([ 1,  1,  1, ...,  1, -1,  1])"
      ]
     },
     "execution_count": 17,
     "metadata": {},
     "output_type": "execute_result"
    }
   ],
   "source": [
    "y_pred"
   ]
  },
  {
   "cell_type": "code",
   "execution_count": 18,
   "metadata": {},
   "outputs": [
    {
     "data": {
      "text/plain": [
       "Text(0, 0.5, 'x4')"
      ]
     },
     "execution_count": 18,
     "metadata": {},
     "output_type": "execute_result"
    },
    {
     "data": {
      "image/png": "[encoded data removed]",
      "text/plain": [
       "<Figure size 432x288 with 1 Axes>"
      ]
     },
     "metadata": {
      "needs_background": "light"
     },
     "output_type": "display_data"
    }
   ],
   "source": [
    "x = test['Packets'] \n",
    "y = test['Duration'] \n",
    "colors = np.array(['#377eb8', '#ff7f00']) \n",
    "plt.scatter(x, y, alpha=0.7, c=colors[(y_pred + 1) // 2]) \n",
    "plt.xlabel('x1') \n",
    "plt.ylabel('x4')"
   ]
  },
  {
   "cell_type": "code",
   "execution_count": 19,
   "metadata": {},
   "outputs": [
    {
     "data": {
      "text/plain": [
       "<matplotlib.collections.PathCollection at 0x7f0214f924d0>"
      ]
     },
     "execution_count": 19,
     "metadata": {},
     "output_type": "execute_result"
    },
    {
     "data": {
      "image/png": "[encoded data removed]",
      "text/plain": [
       "<Figure size 432x288 with 1 Axes>"
      ]
     },
     "metadata": {
      "needs_background": "light"
     },
     "output_type": "display_data"
    }
   ],
   "source": [
    "x = test['Packets'] \n",
    "y = test['Duration'] \n",
    "plt.scatter(x, y) "
   ]
  },
  {
   "cell_type": "code",
   "execution_count": 23,
   "metadata": {},
   "outputs": [
    {
     "data": {
      "text/plain": [
       "array([[16797,  2031],\n",
       "       [  137,  1035]])"
      ]
     },
     "execution_count": 23,
     "metadata": {},
     "output_type": "execute_result"
    }
   ],
   "source": [
    "y_pred_t = np.where(y_pred == -1, 1, 0)\n",
    "confusion_matrix(test['anomalous'], y_pred_t)"
   ]
  },
  {
   "cell_type": "code",
   "execution_count": null,
   "metadata": {},
   "outputs": [],
   "source": []
  }
 ],
 "metadata": {
  "kernelspec": {
   "display_name": "Python 3",
   "language": "python",
   "name": "python3"
  },
  "language_info": {
   "codemirror_mode": {
    "name": "ipython",
    "version": 3
   },
   "file_extension": ".py",
   "mimetype": "text/x-python",
   "name": "python",
   "nbconvert_exporter": "python",
   "pygments_lexer": "ipython3",
   "version": "3.7.4"
  }
 },
 "nbformat": 4,
 "nbformat_minor": 2
}
